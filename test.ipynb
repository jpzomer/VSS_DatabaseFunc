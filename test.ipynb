{
 "cells": [
  {
   "cell_type": "code",
   "execution_count": 1,
   "metadata": {},
   "outputs": [],
   "source": [
    "import os\n",
    "import re\n",
    "import csv\n",
    "import h5py\n",
    "import warnings\n",
    "import tqdm\n",
    "import numpy as np\n",
    "import pandas as pd"
   ]
  },
  {
   "cell_type": "code",
   "execution_count": 201,
   "metadata": {},
   "outputs": [],
   "source": [
    "class VSS_File:\n",
    "    # Class for vibration-based soft sensing database in an hdf5 file\n",
    "    def __init__(self, filePath):\n",
    "        self.path = filePath\n",
    "        self._index = 0\n",
    "        self._fileh5ref = h5py.File(filePath,'r')\n",
    "        self.units =  [self.VSS_Unit_Reference(self,self._fileh5ref[group]) for group in self._fileh5ref.keys()]\n",
    "\n",
    "    def __repr__(self):\n",
    "        return f\"Vibration-based database for ({len(self.units)} units)\"\n",
    "           \n",
    "    def __iter__(self):\n",
    "        return self\n",
    "    \n",
    "    def __next__(self):\n",
    "        if self._index == len(self.units):\n",
    "            self._index = 0\n",
    "            raise StopIteration\n",
    "        else:\n",
    "            self._index += 1\n",
    "            return self.units[self._index-1]\n",
    "\n",
    "    class VSS_Unit_Reference:\n",
    "        # Class for a unit group inside a hdf5 file\n",
    "        def __init__(self, parent, unitGroupId:h5py.Group):\n",
    "            self._h5ref = unitGroupId\n",
    "            self._h5file = parent\n",
    "            self.name = unitGroupId.name\n",
    "            self._index = 0\n",
    "            self.tests = [self.VSS_Test_Reference(self,self._h5ref[group]) for group in self._h5ref.keys()]\n",
    "\n",
    "        def __repr__(self):\n",
    "            return f\"Vibration-based database for unit <{self.name}> ({len(self.tests)} tests)\"\n",
    "    \n",
    "        def __str__(self):\n",
    "            return self.name\n",
    "        \n",
    "        def __iter__(self):\n",
    "            return self\n",
    "        \n",
    "        def __next__(self):\n",
    "            if self._index == len(self.tests):\n",
    "                self._index = 0\n",
    "                raise StopIteration\n",
    "            else:\n",
    "                self._index += 1\n",
    "                return self.tests[self._index-1]\n",
    "            \n",
    "        def filterTestsByAttribute(self, attribute, value):\n",
    "            match attribute:\n",
    "                case \"angularSpeed\":\n",
    "                    # 2100 2475 2850 3225 3600 RPM\n",
    "                    return [test for test in self.tests if test._h5ref.attrs['angularSpeed'] in value]\n",
    "                case \"condensingTemperature\" | \"evaporatingTemperature\":\n",
    "                    # condensingTemperature 34º C até 54 ºC\n",
    "                    # evaporatingTemperature 10º C até 30 ºC\n",
    "                    return [test for test in self.tests if min(value) <= test._h5ref.attrs[attribute] <= max(value)]\n",
    "                # case \"repetition\":\n",
    "                #     #  n\n",
    "                #     pass\n",
    "                case \"type\":\n",
    "                    # A = mapa principal\n",
    "                    # B = mapa secundário\n",
    "                    return [test for test in self.tests if test._h5ref.attrs['type'] == value]\n",
    "                \n",
    "        def filterTestsByAttributeDict(self, attributeDict):\n",
    "                output = [test for test in self.tests]\n",
    "                if \"angularSpeed\" in attributeDict.keys():\n",
    "                    output = [test for test in output if int(test._h5ref.attrs['angularSpeed']) \\\n",
    "                               in attributeDict['angularSpeed']]\n",
    "                else:\n",
    "                    pass\n",
    "\n",
    "                if \"condensingTemperature\" in attributeDict.keys():\n",
    "                    output = [test for test in output if \\\n",
    "                             min(attributeDict['condensingTemperature']) \\\n",
    "                                <= float(test._h5ref.attrs['condensingTemperature'].replace(',','.')) \\\n",
    "                                    <= max(attributeDict['condensingTemperature'])]\n",
    "                else:\n",
    "                    pass\n",
    "\n",
    "                if \"evaporatingTemperature\" in attributeDict.keys():\n",
    "                    output = [test for test in output if \\\n",
    "                             min(attributeDict['evaporatingTemperature']) \\\n",
    "                                <= float(test._h5ref.attrs['evaporatingTemperature'].replace(',','.')) \\\n",
    "                                    <= max(attributeDict['evaporatingTemperature'])]\n",
    "                else:\n",
    "                    pass\n",
    "\n",
    "                # if \"repetition\" in attributeDict.keys():\n",
    "                #     pass\n",
    "                # else:\n",
    "                #     pass\n",
    "\n",
    "                # if \"type\" in attributeDict.keys():\n",
    "                #     pass\n",
    "                # else:\n",
    "                #     pass\n",
    "                return output\n",
    "\n",
    "\n",
    "        class VSS_Test_Reference:\n",
    "            # Class for a test group inside a hdf5 file\n",
    "            def __init__(self, parent, testGroupId:h5py.Group):\n",
    "                self._h5ref = testGroupId\n",
    "                self._h5file = parent._h5file\n",
    "                self.h5unit = parent\n",
    "                self.date = testGroupId.name\n",
    "                self.unit = parent.name\n",
    "                self.name = testGroupId.name\n",
    "\n",
    "            def __repr__(self):\n",
    "                return f\"Vibration soft sensing test database <{self.name}>\"\n",
    "    \n",
    "            def __str__(self):\n",
    "                return (self.name)\n",
    "            \n",
    "\n",
    "\n",
    "datasetPath = \"D:/Rafael/Dados/dataset.hdf5\"\n",
    "\n",
    "dataset = VSS_File(datasetPath)\n",
    "        "
   ]
  },
  {
   "cell_type": "code",
   "execution_count": 213,
   "metadata": {},
   "outputs": [
    {
     "data": {
      "text/plain": [
       "328"
      ]
     },
     "execution_count": 213,
     "metadata": {},
     "output_type": "execute_result"
    }
   ],
   "source": [
    "filterAttributes = {\n",
    "    \"angularSpeed\": [2100],\n",
    "    \"condensingTemperature\": [40, 50]\n",
    "}\n",
    "\n",
    "len(dataset.units[0].filterTestsByAttributeDict(filterAttributes))\n",
    "\n",
    "dataset.returnDataframe(filterAttributes)\n"
   ]
  },
  {
   "cell_type": "code",
   "execution_count": 71,
   "metadata": {},
   "outputs": [],
   "source": [
    "vec = []\n",
    "for unit in dataset.units:\n",
    "    vec.append(len(unit.tests))\n",
    "    # for test in unit.tests:\n",
    "    #     print(test._h5file) 2100 2475 2850 3225 3600\n",
    "\n",
    "sum(vec)\n",
    "# len(dataset.units[0].filterTestsByAttribute(\"type\", \"B\"))\n",
    "\n",
    "\n",
    "\n",
    "# attributes = [\"angularSpeed\", \"condensingTemperature\"]\n",
    "# values = [\"2100\", [40, 50]]\n",
    "\n",
    "# for attribute, value in filterAttributes.items():\n",
    "#     match attribute:\n",
    "#         case \"angularSpeed\":\n",
    "#             # 2100 2475 2850 3225 3600 RPM\n",
    "#             return [test for test in self.tests if test._h5ref.attrs['angularSpeed'] in value]\n",
    "#         case \"condensingTemperature\" | \"evaporatingTemperature\":\n",
    "#             # condensingTemperature 34º C até 54 ºC\n",
    "#             # evaporatingTemperature 10º C até 30 ºC\n",
    "#             return [test for test in self.tests if min(value) <= test._h5ref.attrs[attribute] <= max(value)]\n",
    "#         # case \"repetition\":\n",
    "#         #     #  n\n",
    "#         #     pass\n",
    "#         case \"type\":\n",
    "#             # A = mapa principal\n",
    "#             # B = mapa secundário\n",
    "#             return [test for test in self.tests if test._h5ref.attrs['type'] == value]"
   ]
  },
  {
   "cell_type": "code",
   "execution_count": 75,
   "metadata": {},
   "outputs": [
    {
     "ename": "NameError",
     "evalue": "name 'tests' is not defined",
     "output_type": "error",
     "traceback": [
      "\u001b[1;31m---------------------------------------------------------------------------\u001b[0m",
      "\u001b[1;31mNameError\u001b[0m                                 Traceback (most recent call last)",
      "Cell \u001b[1;32mIn[75], line 1\u001b[0m\n\u001b[1;32m----> 1\u001b[0m [test \u001b[38;5;28;01mfor\u001b[39;00m test \u001b[38;5;129;01min\u001b[39;00m \u001b[43mtests\u001b[49m \u001b[38;5;28;01mif\u001b[39;00m test\u001b[38;5;241m.\u001b[39m_h5ref\u001b[38;5;241m.\u001b[39mattrs[\u001b[38;5;124m'\u001b[39m\u001b[38;5;124mangularSpeed\u001b[39m\u001b[38;5;124m'\u001b[39m] \u001b[38;5;129;01min\u001b[39;00m [\u001b[38;5;124m\"\u001b[39m\u001b[38;5;124m2100\u001b[39m\u001b[38;5;124m\"\u001b[39m]]\n",
      "\u001b[1;31mNameError\u001b[0m: name 'tests' is not defined"
     ]
    }
   ],
   "source": []
  },
  {
   "cell_type": "code",
   "execution_count": 21,
   "metadata": {},
   "outputs": [
    {
     "name": "stdout",
     "output_type": "stream",
     "text": [
      "A\n",
      "B\n"
     ]
    }
   ],
   "source": [
    "import numpy as np\n",
    "\n",
    "\n",
    "# pra acessar os datasets\n",
    "# unit.tests[0]._h5ref.attrs['angularSpeed'] == '2100'\n",
    "\n",
    "\n",
    "# for test in dataset.units[0]:\n",
    "#     print(test)\n",
    "\n",
    "\n",
    "# filtered =  [test.name for test in dataset.units[0] if test._h5ref.attrs['angularSpeed'] in '2100']\n",
    "\n",
    "\n",
    "for testType in ['A','B']:\n",
    "    print(testType)\n"
   ]
  },
  {
   "cell_type": "code",
   "execution_count": null,
   "metadata": {},
   "outputs": [
    {
     "data": {
      "text/plain": [
       "['angularSpeed',\n",
       " 'condensingTemperature',\n",
       " 'evaporatingTemperature',\n",
       " 'repetition',\n",
       " 'type']"
      ]
     },
     "execution_count": 67,
     "metadata": {},
     "output_type": "execute_result"
    }
   ],
   "source": [
    "list(test._h5ref.attrs)"
   ]
  }
 ],
 "metadata": {
  "kernelspec": {
   "display_name": "vss_dataset",
   "language": "python",
   "name": "python3"
  },
  "language_info": {
   "codemirror_mode": {
    "name": "ipython",
    "version": 3
   },
   "file_extension": ".py",
   "mimetype": "text/x-python",
   "name": "python",
   "nbconvert_exporter": "python",
   "pygments_lexer": "ipython3",
   "version": "3.10.13"
  }
 },
 "nbformat": 4,
 "nbformat_minor": 2
}
