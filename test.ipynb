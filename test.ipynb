{
 "cells": [
  {
   "cell_type": "code",
   "execution_count": 103,
   "metadata": {},
   "outputs": [],
   "source": [
    "import os\n",
    "import re\n",
    "import csv\n",
    "import h5py\n",
    "import warnings\n",
    "import tqdm\n",
    "import numpy as np\n",
    "import pandas as pd"
   ]
  },
  {
   "cell_type": "code",
   "execution_count": 102,
   "metadata": {},
   "outputs": [
    {
     "name": "stderr",
     "output_type": "stream",
     "text": [
      " Compressor:   0%|          | 0/5 [00:00<?, ?it/s]"
     ]
    },
    {
     "name": "stderr",
     "output_type": "stream",
     "text": [
      " Compressor: 100%|██████████| 5/5 [00:01<00:00,  2.58it/s]\n"
     ]
    }
   ],
   "source": [
    "dataFolder = \"D:/Rafael/Dados\"\n",
    "\n",
    "allUnitsFolder = os.listdir(dataFolder+\"/Dat\")\n",
    "\n",
    "allUnits = [re.findall(\"A.\", unit) for unit in allUnitsFolder] # Get all folder names with \"Unidade\"\n",
    "allUnits = set([name[0][-1] for name in allUnits if len(name)>0]) # Filter for unique models\n",
    "\n",
    "with h5py.File(f\"{dataFolder}/dataset.hdf5\", \"w\") as fModel:\n",
    "    for unitNum in tqdm.tqdm(allUnits,desc = \" Compressor\", position=0):\n",
    "        \n",
    "        unitGrp = fModel.create_group(unitNum) # Create new group for each compressor unit\n",
    "\n",
    "        r = re.compile(f\"A{unitNum}.*\")\n",
    "        unitFiles = list(filter(r.match,allUnitsFolder))\n",
    "\n",
    "\n",
    "        for testFile in tqdm.tqdm(unitFiles, desc = \"  Teste\", leave=False,  position=1):\n",
    "            testName = os.path.splitext(testFile)[0]\n",
    "\n",
    "            testGrp = unitGrp.create_group(testName)\n",
    "\n",
    "            testTags = testName.replace(\"[\",\"\").replace(\"]\",\"\").split(\"-\")\n",
    "            testGrp.attrs['type'] = testTags[0][0]\n",
    "            testGrp.attrs['RPM'] = testTags[1]\n",
    "            testGrp.attrs['rep'] = testTags[2]\n",
    "            testGrp.attrs['Tsuc'] = testTags[4]\n",
    "            testGrp.attrs['Tdis'] = testTags[5]\n",
    "\n",
    "\n",
    "\n",
    "            \n"
   ]
  }
 ],
 "metadata": {
  "kernelspec": {
   "display_name": "vss_dataset",
   "language": "python",
   "name": "python3"
  },
  "language_info": {
   "codemirror_mode": {
    "name": "ipython",
    "version": 3
   },
   "file_extension": ".py",
   "mimetype": "text/x-python",
   "name": "python",
   "nbconvert_exporter": "python",
   "pygments_lexer": "ipython3",
   "version": "3.10.13"
  }
 },
 "nbformat": 4,
 "nbformat_minor": 2
}
